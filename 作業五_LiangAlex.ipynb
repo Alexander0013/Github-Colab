{
  "nbformat": 4,
  "nbformat_minor": 0,
  "metadata": {
    "kernelspec": {
      "display_name": "Python 3",
      "language": "python",
      "name": "python3"
    },
    "language_info": {
      "codemirror_mode": {
        "name": "ipython",
        "version": 3
      },
      "file_extension": ".py",
      "mimetype": "text/x-python",
      "name": "python",
      "nbconvert_exporter": "python",
      "pygments_lexer": "ipython3",
      "version": "3.7.3"
    },
    "colab": {
      "name": "作業五_LiangAlex.ipynb",
      "provenance": [],
      "include_colab_link": true
    },
    "accelerator": "GPU"
  },
  "cells": [
    {
      "cell_type": "markdown",
      "metadata": {
        "id": "view-in-github",
        "colab_type": "text"
      },
      "source": [
        "<a href=\"https://colab.research.google.com/github/Alexander0013/Github-Colab/blob/main/%E4%BD%9C%E6%A5%AD%E4%BA%94_LiangAlex.ipynb\" target=\"_parent\"><img src=\"https://colab.research.google.com/assets/colab-badge.svg\" alt=\"Open In Colab\"/></a>"
      ]
    },
    {
      "cell_type": "code",
      "metadata": {
        "id": "arJzttwyqTRx"
      },
      "source": [
        "%matplotlib inline\n",
        "\n",
        "import numpy as np\n",
        "import matplotlib.pyplot as plt\n",
        "import pandas as pd"
      ],
      "execution_count": null,
      "outputs": []
    },
    {
      "cell_type": "markdown",
      "metadata": {
        "id": "tgHajfzlqTR2"
      },
      "source": [
        "### 1. 讀入深度學習套件"
      ]
    },
    {
      "cell_type": "code",
      "metadata": {
        "id": "ZCloZaMyqTR4"
      },
      "source": [
        "from tensorflow.keras.preprocessing import sequence\n",
        "from tensorflow.keras.models import Sequential\n",
        "from tensorflow.keras.layers import Dense, Embedding\n",
        "from tensorflow.keras.layers import LSTM\n",
        "from tensorflow.keras.datasets import imdb"
      ],
      "execution_count": null,
      "outputs": []
    },
    {
      "cell_type": "markdown",
      "metadata": {
        "id": "vHEHvNDTqTR5"
      },
      "source": [
        "### 2. 讀入數據"
      ]
    },
    {
      "cell_type": "code",
      "metadata": {
        "id": "y7Qk6FFhqTR5",
        "colab": {
          "base_uri": "https://localhost:8080/"
        },
        "outputId": "c4417990-a5b4-4ef3-fd17-576852c4a17d"
      },
      "source": [
        "(x_train, y_train), (x_test, y_test) = imdb.load_data(num_words=10000)"
      ],
      "execution_count": null,
      "outputs": [
        {
          "output_type": "stream",
          "name": "stdout",
          "text": [
            "Downloading data from https://storage.googleapis.com/tensorflow/tf-keras-datasets/imdb.npz\n",
            "17465344/17464789 [==============================] - 0s 0us/step\n",
            "17473536/17464789 [==============================] - 0s 0us/step\n"
          ]
        }
      ]
    },
    {
      "cell_type": "code",
      "metadata": {
        "id": "_NlOKqpRqTR6",
        "colab": {
          "base_uri": "https://localhost:8080/"
        },
        "outputId": "a2bbc837-9a4e-40ca-d3af-7564db7d0619"
      },
      "source": [
        "len(x_train)"
      ],
      "execution_count": null,
      "outputs": [
        {
          "output_type": "execute_result",
          "data": {
            "text/plain": [
              "25000"
            ]
          },
          "metadata": {},
          "execution_count": 4
        }
      ]
    },
    {
      "cell_type": "code",
      "metadata": {
        "id": "iFG53E4UqTR7",
        "colab": {
          "base_uri": "https://localhost:8080/"
        },
        "outputId": "dc57c0a3-115b-4b15-88bd-b4e7f8dd3a36"
      },
      "source": [
        "len(x_test)"
      ],
      "execution_count": null,
      "outputs": [
        {
          "output_type": "execute_result",
          "data": {
            "text/plain": [
              "25000"
            ]
          },
          "metadata": {},
          "execution_count": 5
        }
      ]
    },
    {
      "cell_type": "code",
      "metadata": {
        "id": "dfStzmlLqTR8",
        "colab": {
          "base_uri": "https://localhost:8080/"
        },
        "outputId": "57db0641-03f6-4b02-e480-a24a52fac7df"
      },
      "source": [
        "len(x_train[0])"
      ],
      "execution_count": null,
      "outputs": [
        {
          "output_type": "execute_result",
          "data": {
            "text/plain": [
              "218"
            ]
          },
          "metadata": {},
          "execution_count": 6
        }
      ]
    },
    {
      "cell_type": "code",
      "metadata": {
        "id": "LXrZHOQ0qTR9",
        "colab": {
          "base_uri": "https://localhost:8080/"
        },
        "outputId": "fe669a0d-f154-4180-b70d-8508f0cfab6b"
      },
      "source": [
        "len(x_train[1])"
      ],
      "execution_count": null,
      "outputs": [
        {
          "output_type": "execute_result",
          "data": {
            "text/plain": [
              "189"
            ]
          },
          "metadata": {},
          "execution_count": 7
        }
      ]
    },
    {
      "cell_type": "code",
      "metadata": {
        "id": "f7zjFxW8qTR9",
        "colab": {
          "base_uri": "https://localhost:8080/"
        },
        "outputId": "28e98a9c-a046-48be-802d-05c58efe3bf5"
      },
      "source": [
        "y_train[0]"
      ],
      "execution_count": null,
      "outputs": [
        {
          "output_type": "execute_result",
          "data": {
            "text/plain": [
              "1"
            ]
          },
          "metadata": {},
          "execution_count": 8
        }
      ]
    },
    {
      "cell_type": "code",
      "metadata": {
        "id": "hZ9muJzcqTR-",
        "colab": {
          "base_uri": "https://localhost:8080/"
        },
        "outputId": "1d9f030b-5656-42c3-f69e-0e0ccd6b4276"
      },
      "source": [
        "y_train[1]"
      ],
      "execution_count": null,
      "outputs": [
        {
          "output_type": "execute_result",
          "data": {
            "text/plain": [
              "0"
            ]
          },
          "metadata": {},
          "execution_count": 9
        }
      ]
    },
    {
      "cell_type": "markdown",
      "metadata": {
        "id": "4v2MWnsZqTR-"
      },
      "source": [
        "### 3. 資料處理"
      ]
    },
    {
      "cell_type": "code",
      "metadata": {
        "id": "hTt5yjj4qTR_"
      },
      "source": [
        "x_train = sequence.pad_sequences(x_train, maxlen=100)\n",
        "x_test = sequence.pad_sequences(x_test, maxlen=100)"
      ],
      "execution_count": null,
      "outputs": []
    },
    {
      "cell_type": "code",
      "metadata": {
        "colab": {
          "base_uri": "https://localhost:8080/"
        },
        "id": "l2f8Jf9RrkiN",
        "outputId": "c0b01186-0b6c-4c25-e93f-a9391724be4a"
      },
      "source": [
        "x_train[56]"
      ],
      "execution_count": null,
      "outputs": [
        {
          "output_type": "execute_result",
          "data": {
            "text/plain": [
              "array([ 583,    7,  970,    2,  109,    9,    6,  227, 5211,    5,    2,\n",
              "        469,    4,   20,   21,   15,   64,  763,    8,    4, 3033,    7,\n",
              "          4,   22,   10,   10,    4, 2459,  317,    5,  208,   26,   73,\n",
              "       9095,    5,    4,  277,    9,   55,  701, 4896,    5,  166,   25,\n",
              "        235,  654,   73,  279,   15, 5828,   23,    4,  552,    7, 4161,\n",
              "         25,   40,   14,   20,  828,   72,   55,  928, 1371,    4,  192,\n",
              "       2312,   16,   11,   12,   45,    6,   87,   20,    5,  474,  545,\n",
              "        386,   12,    8,  259,   37, 1232,  102,    2,  242,  528,   40,\n",
              "         14,   20,   21,   36,   92,  106,  102, 1203,   36,   40,  102,\n",
              "        553], dtype=int32)"
            ]
          },
          "metadata": {},
          "execution_count": 11
        }
      ]
    },
    {
      "cell_type": "markdown",
      "metadata": {
        "id": "DM7FPaRNqTR_"
      },
      "source": [
        "### 4. step 01: 打造一個函數學習機"
      ]
    },
    {
      "cell_type": "code",
      "metadata": {
        "id": "8NTfVFcKqTR_"
      },
      "source": [
        "model = Sequential()"
      ],
      "execution_count": null,
      "outputs": []
    },
    {
      "cell_type": "code",
      "metadata": {
        "id": "glyW0L94qTR_"
      },
      "source": [
        "model.add(Embedding(10000, 128))"
      ],
      "execution_count": null,
      "outputs": []
    },
    {
      "cell_type": "code",
      "metadata": {
        "id": "RY_9YezSqTSA",
        "colab": {
          "base_uri": "https://localhost:8080/"
        },
        "outputId": "93e78266-3200-4fe4-ee7c-619664ab8508"
      },
      "source": [
        "model.add(LSTM(128, dropout=0.1, recurrent_dropout=0.1))"
      ],
      "execution_count": null,
      "outputs": [
        {
          "output_type": "stream",
          "name": "stdout",
          "text": [
            "WARNING:tensorflow:Layer lstm_4 will not use cuDNN kernels since it doesn't meet the criteria. It will use a generic GPU kernel as fallback when running on GPU.\n"
          ]
        }
      ]
    },
    {
      "cell_type": "markdown",
      "metadata": {
        "id": "a7xGzrcpx2Xu"
      },
      "source": [
        "**dropout改為0.1**"
      ]
    },
    {
      "cell_type": "code",
      "metadata": {
        "id": "jirufNC_qTSA"
      },
      "source": [
        "model.add(Dense(1, activation='sigmoid'))"
      ],
      "execution_count": null,
      "outputs": []
    },
    {
      "cell_type": "code",
      "metadata": {
        "id": "uQ-9LWPUqTSA"
      },
      "source": [
        "model.compile(loss='binary_crossentropy',\n",
        "             optimizer='adam',\n",
        "             metrics=['accuracy'])"
      ],
      "execution_count": null,
      "outputs": []
    },
    {
      "cell_type": "code",
      "metadata": {
        "id": "LsxvcLY7qTSA",
        "colab": {
          "base_uri": "https://localhost:8080/"
        },
        "outputId": "03236e12-0fe8-44d7-8263-7ade47ab46b0"
      },
      "source": [
        "model.summary()"
      ],
      "execution_count": null,
      "outputs": [
        {
          "output_type": "stream",
          "name": "stdout",
          "text": [
            "Model: \"sequential_2\"\n",
            "_________________________________________________________________\n",
            " Layer (type)                Output Shape              Param #   \n",
            "=================================================================\n",
            " embedding_2 (Embedding)     (None, None, 128)         1280000   \n",
            "                                                                 \n",
            " lstm_4 (LSTM)               (None, 128)               131584    \n",
            "                                                                 \n",
            " dense_2 (Dense)             (None, 1)                 129       \n",
            "                                                                 \n",
            "=================================================================\n",
            "Total params: 1,411,713\n",
            "Trainable params: 1,411,713\n",
            "Non-trainable params: 0\n",
            "_________________________________________________________________\n"
          ]
        }
      ]
    },
    {
      "cell_type": "markdown",
      "metadata": {
        "id": "eBbrqz5lqTSA"
      },
      "source": [
        "### 5. step 02: 訓練"
      ]
    },
    {
      "cell_type": "code",
      "metadata": {
        "id": "vc6dSIwvqTSB",
        "colab": {
          "base_uri": "https://localhost:8080/"
        },
        "outputId": "8db9cc7d-e69d-4cf4-f2c4-4533ea3fb4db"
      },
      "source": [
        "model.fit(x_train, y_train, batch_size=32, epochs=3,\n",
        "         validation_data=(x_test, y_test))"
      ],
      "execution_count": null,
      "outputs": [
        {
          "output_type": "stream",
          "name": "stdout",
          "text": [
            "Epoch 1/3\n",
            "782/782 [==============================] - 498s 637ms/step - loss: 0.4179 - accuracy: 0.8110 - val_loss: 0.3780 - val_accuracy: 0.8395\n",
            "Epoch 2/3\n",
            "782/782 [==============================] - 495s 633ms/step - loss: 0.2659 - accuracy: 0.8929 - val_loss: 0.3691 - val_accuracy: 0.8405\n",
            "Epoch 3/3\n",
            "782/782 [==============================] - 498s 637ms/step - loss: 0.1848 - accuracy: 0.9277 - val_loss: 0.4004 - val_accuracy: 0.8369\n"
          ]
        },
        {
          "output_type": "execute_result",
          "data": {
            "text/plain": [
              "<keras.callbacks.History at 0x7f8fd0bf0b50>"
            ]
          },
          "metadata": {},
          "execution_count": 35
        }
      ]
    },
    {
      "cell_type": "markdown",
      "metadata": {
        "id": "zDZ2h4Ngxk9B"
      },
      "source": [
        "**更改學習次數為三次正確率就足夠高了**"
      ]
    },
    {
      "cell_type": "markdown",
      "metadata": {
        "id": "bLVEmkuTqTSB"
      },
      "source": [
        "### 換個存檔方式\n",
        "\n",
        "這次是把 model 和訓練權重分開存, 使用上更有彈性。"
      ]
    },
    {
      "cell_type": "code",
      "metadata": {
        "id": "diMRxzy8qTSB"
      },
      "source": [
        "model_json = model.to_json()\n",
        "open('imdb_model_architecture.json', 'w').write(model_json)\n",
        "model.save_weights('imdb_model_weights.h5')"
      ],
      "execution_count": null,
      "outputs": []
    }
  ]
}