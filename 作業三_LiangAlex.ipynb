{
  "nbformat": 4,
  "nbformat_minor": 0,
  "metadata": {
    "kernelspec": {
      "display_name": "Python 3",
      "language": "python",
      "name": "python3"
    },
    "language_info": {
      "codemirror_mode": {
        "name": "ipython",
        "version": 3
      },
      "file_extension": ".py",
      "mimetype": "text/x-python",
      "name": "python",
      "nbconvert_exporter": "python",
      "pygments_lexer": "ipython3",
      "version": "3.7.3"
    },
    "colab": {
      "name": "作業三_LiangAlex.ipynb",
      "provenance": [],
      "collapsed_sections": [],
      "include_colab_link": true
    },
    "accelerator": "GPU"
  },
  "cells": [
    {
      "cell_type": "markdown",
      "metadata": {
        "id": "view-in-github",
        "colab_type": "text"
      },
      "source": [
        "<a href=\"https://colab.research.google.com/github/Alexander0013/Github-Colab/blob/main/%E4%BD%9C%E6%A5%AD%E4%B8%89_LiangAlex.ipynb\" target=\"_parent\"><img src=\"https://colab.research.google.com/assets/colab-badge.svg\" alt=\"Open In Colab\"/></a>"
      ]
    },
    {
      "cell_type": "code",
      "metadata": {
        "id": "aacUTy-RzQMo"
      },
      "source": [
        "%matplotlib inline\n",
        "\n",
        "import numpy as np\n",
        "import matplotlib.pyplot as plt\n",
        "import pandas as pd"
      ],
      "execution_count": null,
      "outputs": []
    },
    {
      "cell_type": "code",
      "metadata": {
        "id": "W4E_uyWgzQMs"
      },
      "source": [
        "from tensorflow.keras.utils import to_categorical\n",
        "from tensorflow.keras.models import Sequential\n",
        "from tensorflow.keras.layers import Dense\n",
        "from tensorflow.keras.optimizers import SGD"
      ],
      "execution_count": null,
      "outputs": []
    },
    {
      "cell_type": "markdown",
      "metadata": {
        "id": "WA35sptazQMs"
      },
      "source": [
        "### 1. 讀入 MNSIT 數據集"
      ]
    },
    {
      "cell_type": "code",
      "metadata": {
        "id": "38h6O1LizQMu"
      },
      "source": [
        "from tensorflow.keras.datasets import mnist"
      ],
      "execution_count": null,
      "outputs": []
    },
    {
      "cell_type": "code",
      "metadata": {
        "id": "H0A3tJLOzQMu"
      },
      "source": [
        "(x_train, y_train), (x_test, y_test) = mnist.load_data()"
      ],
      "execution_count": null,
      "outputs": []
    },
    {
      "cell_type": "markdown",
      "metadata": {
        "id": "Rb2MvIcDzQMv"
      },
      "source": [
        "#### 你也可以讀入 Fasion 版的 MNIST"
      ]
    },
    {
      "cell_type": "code",
      "metadata": {
        "id": "yXnkragozQMw"
      },
      "source": [
        "# from tensorflow.keras.datasets import fashion_mnist\n",
        "# (x_train, y_train), (x_test, y_test) = fashion_mnist.load_data()"
      ],
      "execution_count": null,
      "outputs": []
    },
    {
      "cell_type": "markdown",
      "metadata": {
        "id": "yDp045hAzQMw"
      },
      "source": [
        "### 2. 欣賞數據集內容 (非執行必要)"
      ]
    },
    {
      "cell_type": "code",
      "metadata": {
        "id": "ERozINgKzQMx",
        "colab": {
          "base_uri": "https://localhost:8080/"
        },
        "outputId": "a59d1a4b-2cab-425c-86f4-ea04fe7890a4"
      },
      "source": [
        "len(x_train)"
      ],
      "execution_count": null,
      "outputs": [
        {
          "output_type": "execute_result",
          "data": {
            "text/plain": [
              "60000"
            ]
          },
          "metadata": {},
          "execution_count": 194
        }
      ]
    },
    {
      "cell_type": "code",
      "metadata": {
        "id": "lr94009uzQMz",
        "colab": {
          "base_uri": "https://localhost:8080/"
        },
        "outputId": "5cb00e42-3775-4369-ca46-68a8ae5e9751"
      },
      "source": [
        "len(x_test)"
      ],
      "execution_count": null,
      "outputs": [
        {
          "output_type": "execute_result",
          "data": {
            "text/plain": [
              "10000"
            ]
          },
          "metadata": {},
          "execution_count": 195
        }
      ]
    },
    {
      "cell_type": "code",
      "metadata": {
        "id": "UCjWEmQ0zQMz"
      },
      "source": [
        "n = 9487"
      ],
      "execution_count": null,
      "outputs": []
    },
    {
      "cell_type": "code",
      "metadata": {
        "id": "i4yyHkTPzQMz",
        "colab": {
          "base_uri": "https://localhost:8080/"
        },
        "outputId": "5f34fd9e-c0cf-4837-cb0e-e1db50e9b748"
      },
      "source": [
        "x_train[n]"
      ],
      "execution_count": null,
      "outputs": [
        {
          "output_type": "execute_result",
          "data": {
            "text/plain": [
              "array([[  0,   0,   0,   0,   0,   0,   0,   0,   0,   0,   0,   0,   0,\n",
              "          0,   0,   0,   0,   0,   0,   0,   0,   0,   0,   0,   0,   0,\n",
              "          0,   0],\n",
              "       [  0,   0,   0,   0,   0,   0,   0,   0,   0,   0,   0,   0,   0,\n",
              "          0,   0,   0,   0,   0,   0,   0,   0,   0,   0,   0,   0,   0,\n",
              "          0,   0],\n",
              "       [  0,   0,   0,   0,   0,   0,   0,   0,   0,   0,   0,   0,   0,\n",
              "          0,   0,   0,   0,   0,   0,   0,   0,   0,   0,   0,   0,   0,\n",
              "          0,   0],\n",
              "       [  0,   0,   0,   0,   0,   0,   0,   0,   0,   0,   0,   0,   0,\n",
              "          0,   0,   0,   0,   0,   0,   0,   0,   0,   0,   0,   0,   0,\n",
              "          0,   0],\n",
              "       [  0,   0,   0,   0,   0,   0,   0,   0,   0,   0,   0,   0, 240,\n",
              "        253, 165,   0,   0,   0,   0,   0,   0,   0,   0,   0,   0,   0,\n",
              "          0,   0],\n",
              "       [  0,   0,   0,   0,   0,   0,   0,   0,   0,   0,   0,  32, 241,\n",
              "        252, 252,   0,   0,   0,   0,   0,   0,   0,   0,   0,   0,   0,\n",
              "          0,   0],\n",
              "       [  0,   0,   0,   0,   0,   0,   0,   0,   0,   0,   2, 141, 252,\n",
              "        252, 252,  98,   0,   0,   0,   0,   0,   0,   0,   0,   0,   0,\n",
              "          0,   0],\n",
              "       [  0,   0,   0,   0,   0,   0,   0,   0,   0,   0,  30, 252, 252,\n",
              "        252, 252, 149,   0,   0,   0,   0,   0,   0,   0,   0,   0,   0,\n",
              "          0,   0],\n",
              "       [  0,   0,   0,   0,   0,   0,   0,   0,   0,   0,  21, 217, 252,\n",
              "        252, 252, 149,   0,   0,   0,   0,   0,   0,   0,   0,   0,   0,\n",
              "          0,   0],\n",
              "       [  0,   0,   0,   0,   0,   0,   0,   0,   0,   0,   0, 134, 252,\n",
              "        252, 252, 223,  31,   0,   0,   0,   0,   0,   0,   0,   0,   0,\n",
              "          0,   0],\n",
              "       [  0,   0,   0,   0,   0,   0,   0,   0,   0,   0,   0, 134, 252,\n",
              "        252, 252, 253,  44,   0,   0,   0,   0,   0,   0,   0,   0,   0,\n",
              "          0,   0],\n",
              "       [  0,   0,   0,   0,   0,   0,   0,   0,   0,   0,   0,   8, 239,\n",
              "        252, 252, 253,  44,   0,   0,   0,   0,   0,   0,   0,   0,   0,\n",
              "          0,   0],\n",
              "       [  0,   0,   0,   0,   0,   0,   0,   0,   0,   0,   0,   0, 238,\n",
              "        252, 252, 253,  44,   0,   0,   0,   0,   0,   0,   0,   0,   0,\n",
              "          0,   0],\n",
              "       [  0,   0,   0,   0,   0,   0,   0,   0,   0,   0,   0,   0, 238,\n",
              "        252, 252, 253,  44,   0,   0,   0,   0,   0,   0,   0,   0,   0,\n",
              "          0,   0],\n",
              "       [  0,   0,   0,   0,   0,   0,   0,   0,   0,   0,   0,   0, 178,\n",
              "        253, 253, 255, 106,   0,   0,   0,   0,   0,   0,   0,   0,   0,\n",
              "          0,   0],\n",
              "       [  0,   0,   0,   0,   0,   0,   0,   0,   0,   0,   0,   0,  90,\n",
              "        252, 252, 253, 206,  21,   0,   0,   0,   0,   0,   0,   0,   0,\n",
              "          0,   0],\n",
              "       [  0,   0,   0,   0,   0,   0,   0,   0,   0,   0,   0,   0,  90,\n",
              "        252, 252, 253, 252,  88,   0,   0,   0,   0,   0,   0,   0,   0,\n",
              "          0,   0],\n",
              "       [  0,   0,   0,   0,   0,   0,   0,   0,   0,   0,   0,   0,  90,\n",
              "        252, 252, 253, 252,  88,   0,   0,   0,   0,   0,   0,   0,   0,\n",
              "          0,   0],\n",
              "       [  0,   0,   0,   0,   0,   0,   0,   0,   0,   0,   0,   0,  63,\n",
              "        234, 252, 253, 252, 220,   0,   0,   0,   0,   0,   0,   0,   0,\n",
              "          0,   0],\n",
              "       [  0,   0,   0,   0,   0,   0,   0,   0,   0,   0,   0,   0,   0,\n",
              "        176, 252, 253, 252, 237,   0,   0,   0,   0,   0,   0,   0,   0,\n",
              "          0,   0],\n",
              "       [  0,   0,   0,   0,   0,   0,   0,   0,   0,   0,   0,   0,   0,\n",
              "         45, 252, 253, 252, 245,  71,   0,   0,   0,   0,   0,   0,   0,\n",
              "          0,   0],\n",
              "       [  0,   0,   0,   0,   0,   0,   0,   0,   0,   0,   0,   0,   0,\n",
              "         29, 215, 253, 252, 237,   8,   0,   0,   0,   0,   0,   0,   0,\n",
              "          0,   0],\n",
              "       [  0,   0,   0,   0,   0,   0,   0,   0,   0,   0,   0,   0,   0,\n",
              "          0, 149, 253, 252, 237,   0,   0,   0,   0,   0,   0,   0,   0,\n",
              "          0,   0],\n",
              "       [  0,   0,   0,   0,   0,   0,   0,   0,   0,   0,   0,   0,   0,\n",
              "          0,  61, 165, 252, 237,   0,   0,   0,   0,   0,   0,   0,   0,\n",
              "          0,   0],\n",
              "       [  0,   0,   0,   0,   0,   0,   0,   0,   0,   0,   0,   0,   0,\n",
              "          0,   0,   0,   0,   0,   0,   0,   0,   0,   0,   0,   0,   0,\n",
              "          0,   0],\n",
              "       [  0,   0,   0,   0,   0,   0,   0,   0,   0,   0,   0,   0,   0,\n",
              "          0,   0,   0,   0,   0,   0,   0,   0,   0,   0,   0,   0,   0,\n",
              "          0,   0],\n",
              "       [  0,   0,   0,   0,   0,   0,   0,   0,   0,   0,   0,   0,   0,\n",
              "          0,   0,   0,   0,   0,   0,   0,   0,   0,   0,   0,   0,   0,\n",
              "          0,   0],\n",
              "       [  0,   0,   0,   0,   0,   0,   0,   0,   0,   0,   0,   0,   0,\n",
              "          0,   0,   0,   0,   0,   0,   0,   0,   0,   0,   0,   0,   0,\n",
              "          0,   0]], dtype=uint8)"
            ]
          },
          "metadata": {},
          "execution_count": 197
        }
      ]
    },
    {
      "cell_type": "code",
      "metadata": {
        "id": "dwXhi3KyzQM0",
        "colab": {
          "base_uri": "https://localhost:8080/"
        },
        "outputId": "0972d4a2-42c9-4f1c-a622-54d57371c8b7"
      },
      "source": [
        "y_train[n]"
      ],
      "execution_count": null,
      "outputs": [
        {
          "output_type": "execute_result",
          "data": {
            "text/plain": [
              "1"
            ]
          },
          "metadata": {},
          "execution_count": 198
        }
      ]
    },
    {
      "cell_type": "code",
      "metadata": {
        "id": "97oBZ4JPzQM0",
        "colab": {
          "base_uri": "https://localhost:8080/",
          "height": 283
        },
        "outputId": "48beb7fa-9586-4b23-d4a0-0d74440f4bd4"
      },
      "source": [
        "plt.imshow(x_train[n], cmap='Greys')"
      ],
      "execution_count": null,
      "outputs": [
        {
          "output_type": "execute_result",
          "data": {
            "text/plain": [
              "<matplotlib.image.AxesImage at 0x7fe3dca5aa90>"
            ]
          },
          "metadata": {},
          "execution_count": 199
        },
        {
          "output_type": "display_data",
          "data": {
            "image/png": "[encoded data removed]",
            "text/plain": [
              "<Figure size 432x288 with 1 Axes>"
            ]
          },
          "metadata": {
            "needs_background": "light"
          }
        }
      ]
    },
    {
      "cell_type": "markdown",
      "metadata": {
        "id": "GzJjg5g-zQM1"
      },
      "source": [
        "### 3. 資料整理"
      ]
    },
    {
      "cell_type": "markdown",
      "metadata": {
        "id": "OvHqU-FozQM1"
      },
      "source": [
        "先看個範例, 因為 `numpy` 「廣播」的特性, 我們對 `array` 中所有數字要同除以一個數可瞬間完成!"
      ]
    },
    {
      "cell_type": "code",
      "metadata": {
        "id": "NcB0f4ZmzQM1"
      },
      "source": [
        "x_train = x_train.reshape(60000, 784)/255\n",
        "x_test = x_test.reshape(10000, 784)/255"
      ],
      "execution_count": null,
      "outputs": []
    },
    {
      "cell_type": "code",
      "metadata": {
        "id": "zEoZ4H_azQM1"
      },
      "source": [
        "y_train = to_categorical(y_train, 10)\n",
        "y_test = to_categorical(y_test, 10)"
      ],
      "execution_count": null,
      "outputs": []
    },
    {
      "cell_type": "markdown",
      "metadata": {
        "id": "h34G0mSAzQM1"
      },
      "source": [
        "### 4. step 1: 打造神經網路"
      ]
    },
    {
      "cell_type": "code",
      "metadata": {
        "id": "iSACpBEEzQM2"
      },
      "source": [
        "model = Sequential()"
      ],
      "execution_count": null,
      "outputs": []
    },
    {
      "cell_type": "code",
      "metadata": {
        "id": "8BCzjXYEzQM2"
      },
      "source": [
        "model.add(Dense(500, input_dim=784, activation='relu'))"
      ],
      "execution_count": null,
      "outputs": []
    },
    {
      "cell_type": "markdown",
      "metadata": {
        "id": "JBiuxy6SXuYO"
      },
      "source": [
        "每層神經元個數增加到500"
      ]
    },
    {
      "cell_type": "code",
      "metadata": {
        "id": "IKNOZGjkzQM2"
      },
      "source": [
        "model.add(Dense(500, activation='relu'))"
      ],
      "execution_count": null,
      "outputs": []
    },
    {
      "cell_type": "code",
      "metadata": {
        "id": "vCb0hoE6zQM2"
      },
      "source": [
        "model.add(Dense(10, activation='softmax'))"
      ],
      "execution_count": null,
      "outputs": []
    },
    {
      "cell_type": "markdown",
      "metadata": {
        "id": "YGxaFErrzQM3"
      },
      "source": [
        "#### 組裝我們的神經網路"
      ]
    },
    {
      "cell_type": "code",
      "metadata": {
        "id": "2Z6UJ23MzQM3",
        "colab": {
          "base_uri": "https://localhost:8080/"
        },
        "outputId": "99c03185-1bde-4f30-a424-1e041bec608c"
      },
      "source": [
        "model.compile(loss='MSE', optimizer=SGD(lr=0.1), \n",
        "              metrics=['accuracy'])"
      ],
      "execution_count": null,
      "outputs": [
        {
          "output_type": "stream",
          "name": "stderr",
          "text": [
            "/usr/local/lib/python3.7/dist-packages/keras/optimizer_v2/optimizer_v2.py:356: UserWarning: The `lr` argument is deprecated, use `learning_rate` instead.\n",
            "  \"The `lr` argument is deprecated, use `learning_rate` instead.\")\n"
          ]
        }
      ]
    },
    {
      "cell_type": "markdown",
      "metadata": {
        "id": "xnS-d7x5Uny0"
      },
      "source": [
        "變更loss function為平均絕對值誤差(Mean absolute error，MAE)\n",
        "Learning rate變更為 0.1"
      ]
    },
    {
      "cell_type": "markdown",
      "metadata": {
        "id": "ALKDCLMyzQM3"
      },
      "source": [
        "#### 欣賞我們的作品"
      ]
    },
    {
      "cell_type": "code",
      "metadata": {
        "id": "UE4fEC2ezQM3",
        "colab": {
          "base_uri": "https://localhost:8080/"
        },
        "outputId": "79cd2168-b978-4034-92b5-578131fef464"
      },
      "source": [
        "model.summary()"
      ],
      "execution_count": null,
      "outputs": [
        {
          "output_type": "stream",
          "name": "stdout",
          "text": [
            "Model: \"sequential_8\"\n",
            "_________________________________________________________________\n",
            "Layer (type)                 Output Shape              Param #   \n",
            "=================================================================\n",
            "dense_25 (Dense)             (None, 500)               392500    \n",
            "_________________________________________________________________\n",
            "dense_26 (Dense)             (None, 500)               250500    \n",
            "_________________________________________________________________\n",
            "dense_27 (Dense)             (None, 10)                5010      \n",
            "=================================================================\n",
            "Total params: 648,010\n",
            "Trainable params: 648,010\n",
            "Non-trainable params: 0\n",
            "_________________________________________________________________\n"
          ]
        }
      ]
    },
    {
      "cell_type": "markdown",
      "metadata": {
        "id": "gAeJoXWPzQM4"
      },
      "source": [
        "### 5. step 2: 訓練"
      ]
    },
    {
      "cell_type": "code",
      "metadata": {
        "scrolled": true,
        "id": "Cnb3WKOjzQM4",
        "colab": {
          "base_uri": "https://localhost:8080/"
        },
        "outputId": "3ad4111a-9d69-4ba9-9be1-d5409449cb22"
      },
      "source": [
        "model.fit(x_train, y_train, batch_size=100, epochs=10)"
      ],
      "execution_count": null,
      "outputs": [
        {
          "output_type": "stream",
          "name": "stdout",
          "text": [
            "Epoch 1/10\n",
            "600/600 [==============================] - 2s 3ms/step - loss: 0.0722 - accuracy: 0.5166\n",
            "Epoch 2/10\n",
            "600/600 [==============================] - 2s 3ms/step - loss: 0.0336 - accuracy: 0.8245\n",
            "Epoch 3/10\n",
            "600/600 [==============================] - 2s 3ms/step - loss: 0.0212 - accuracy: 0.8805\n",
            "Epoch 4/10\n",
            "600/600 [==============================] - 2s 3ms/step - loss: 0.0175 - accuracy: 0.8952\n",
            "Epoch 5/10\n",
            "600/600 [==============================] - 2s 3ms/step - loss: 0.0157 - accuracy: 0.9044\n",
            "Epoch 6/10\n",
            "600/600 [==============================] - 2s 3ms/step - loss: 0.0145 - accuracy: 0.9098\n",
            "Epoch 7/10\n",
            "600/600 [==============================] - 2s 3ms/step - loss: 0.0136 - accuracy: 0.9150\n",
            "Epoch 8/10\n",
            "600/600 [==============================] - 2s 3ms/step - loss: 0.0129 - accuracy: 0.9190\n",
            "Epoch 9/10\n",
            "600/600 [==============================] - 2s 3ms/step - loss: 0.0123 - accuracy: 0.9228\n",
            "Epoch 10/10\n",
            "600/600 [==============================] - 2s 3ms/step - loss: 0.0118 - accuracy: 0.9262\n"
          ]
        },
        {
          "output_type": "execute_result",
          "data": {
            "text/plain": [
              "<keras.callbacks.History at 0x7fe3dcadecd0>"
            ]
          },
          "metadata": {},
          "execution_count": 208
        }
      ]
    },
    {
      "cell_type": "markdown",
      "metadata": {
        "id": "FwjuOWbdXkxF"
      },
      "source": [
        "模型準確率提高到92%"
      ]
    },
    {
      "cell_type": "markdown",
      "metadata": {
        "id": "nCiok5U-zQM5"
      },
      "source": [
        "### 6. step 3: 預測 (testing)"
      ]
    },
    {
      "cell_type": "code",
      "metadata": {
        "id": "h2PNkDEHzQM5"
      },
      "source": [
        "predictions = (model.predict(x_test) > 0.5).astype(\"int32\")"
      ],
      "execution_count": null,
      "outputs": []
    },
    {
      "cell_type": "markdown",
      "metadata": {
        "id": "I2jW_LRZ4N2N"
      },
      "source": [
        "Tensorflow 2.6 把predict_classes移除了，只能用2.5之前的版本或是其他方式\n",
        "例如 predictions = (model.predict(x_test) > 0.5).astype(\"int32\")"
      ]
    },
    {
      "cell_type": "code",
      "metadata": {
        "id": "lX_QvAvyzQM5",
        "colab": {
          "base_uri": "https://localhost:8080/",
          "height": 283
        },
        "outputId": "8de1a607-5137-4759-fee5-bbc466d4a25a"
      },
      "source": [
        "n = 2280\n",
        "\n",
        "print('神經網路預測是:', predictions[n])\n",
        "plt.imshow(x_test[n].reshape(28,28), cmap='Greys');"
      ],
      "execution_count": null,
      "outputs": [
        {
          "output_type": "stream",
          "name": "stdout",
          "text": [
            "神經網路預測是: [0 0 0 1 0 0 0 0 0 0]\n"
          ]
        },
        {
          "output_type": "display_data",
          "data": {
            "image/png": "[encoded data removed]",
            "text/plain": [
              "<Figure size 432x288 with 1 Axes>"
            ]
          },
          "metadata": {
            "needs_background": "light"
          }
        }
      ]
    },
    {
      "cell_type": "markdown",
      "metadata": {
        "id": "wdusSZJLzQM5"
      },
      "source": [
        "### 7. 儲存我們的 model"
      ]
    },
    {
      "cell_type": "code",
      "metadata": {
        "id": "obIMNgo8zQM5"
      },
      "source": [
        "model.save(\"my_nn.h5\")"
      ],
      "execution_count": null,
      "outputs": []
    },
    {
      "cell_type": "code",
      "metadata": {
        "id": "ZzT-KJaCzQM6"
      },
      "source": [
        ""
      ],
      "execution_count": null,
      "outputs": []
    }
  ]
}